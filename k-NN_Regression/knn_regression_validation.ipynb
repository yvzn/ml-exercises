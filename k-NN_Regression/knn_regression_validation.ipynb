{
 "cells": [
  {
   "cell_type": "markdown",
   "metadata": {},
   "source": [
    "# Activité \"Sélectionnez le nombre de voisins dans un kNN pour une régression\"\n",
    "\n",
    "Utiliser la version régression du K-nn afin de prédire la qualité du vin, évaluer le modèle pour choisir les meilleurs hyper-paramètres à l’aide d’une grid search (implémentation personnalisée). \n",
    "\n",
    "Optimiser l’erreur quadratique moyenne (Mean Squared Error), observer le comportement de la MSE et la comparer à celui du coefficient de détermination (R^2).\n",
    "\n",
    "Comparer les performances obtenues avec celles d’une baseline naïve et des différentes heuristiques.\n",
    "\n",
    "3 étapes:\n",
    "1. Initialisation des données\n",
    "1. Optimisation du modèle k-NN à l'aide d'une validation croisée\n",
    "1. Comparaison des résultats avec des approches naïves\n",
    "\n",
    "## Etape 1: Initialisation\n",
    "### Chargement des données\n",
    "Les données sont lues depuis le fichier CSV"
   ]
  },
  {
   "cell_type": "code",
   "execution_count": 1,
   "metadata": {},
   "outputs": [],
   "source": [
    "%matplotlib inline\n",
    "import pandas as pd\n",
    "import numpy as np\n",
    "import matplotlib.pyplot as plt"
   ]
  },
  {
   "cell_type": "code",
   "execution_count": 2,
   "metadata": {},
   "outputs": [
    {
     "name": "stdout",
     "output_type": "stream",
     "text": [
      "1599 échantillons et 12 features\n"
     ]
    },
    {
     "data": {
      "text/html": [
       "<div>\n",
       "<style scoped>\n",
       "    .dataframe tbody tr th:only-of-type {\n",
       "        vertical-align: middle;\n",
       "    }\n",
       "\n",
       "    .dataframe tbody tr th {\n",
       "        vertical-align: top;\n",
       "    }\n",
       "\n",
       "    .dataframe thead th {\n",
       "        text-align: right;\n",
       "    }\n",
       "</style>\n",
       "<table border=\"1\" class=\"dataframe\">\n",
       "  <thead>\n",
       "    <tr style=\"text-align: right;\">\n",
       "      <th></th>\n",
       "      <th>fixed acidity</th>\n",
       "      <th>volatile acidity</th>\n",
       "      <th>citric acid</th>\n",
       "      <th>residual sugar</th>\n",
       "      <th>chlorides</th>\n",
       "      <th>free sulfur dioxide</th>\n",
       "      <th>total sulfur dioxide</th>\n",
       "      <th>density</th>\n",
       "      <th>pH</th>\n",
       "      <th>sulphates</th>\n",
       "      <th>alcohol</th>\n",
       "      <th>quality</th>\n",
       "    </tr>\n",
       "  </thead>\n",
       "  <tbody>\n",
       "    <tr>\n",
       "      <th>0</th>\n",
       "      <td>7.4</td>\n",
       "      <td>0.70</td>\n",
       "      <td>0.00</td>\n",
       "      <td>1.9</td>\n",
       "      <td>0.076</td>\n",
       "      <td>11.0</td>\n",
       "      <td>34.0</td>\n",
       "      <td>0.9978</td>\n",
       "      <td>3.51</td>\n",
       "      <td>0.56</td>\n",
       "      <td>9.4</td>\n",
       "      <td>5</td>\n",
       "    </tr>\n",
       "    <tr>\n",
       "      <th>1</th>\n",
       "      <td>7.8</td>\n",
       "      <td>0.88</td>\n",
       "      <td>0.00</td>\n",
       "      <td>2.6</td>\n",
       "      <td>0.098</td>\n",
       "      <td>25.0</td>\n",
       "      <td>67.0</td>\n",
       "      <td>0.9968</td>\n",
       "      <td>3.20</td>\n",
       "      <td>0.68</td>\n",
       "      <td>9.8</td>\n",
       "      <td>5</td>\n",
       "    </tr>\n",
       "    <tr>\n",
       "      <th>2</th>\n",
       "      <td>7.8</td>\n",
       "      <td>0.76</td>\n",
       "      <td>0.04</td>\n",
       "      <td>2.3</td>\n",
       "      <td>0.092</td>\n",
       "      <td>15.0</td>\n",
       "      <td>54.0</td>\n",
       "      <td>0.9970</td>\n",
       "      <td>3.26</td>\n",
       "      <td>0.65</td>\n",
       "      <td>9.8</td>\n",
       "      <td>5</td>\n",
       "    </tr>\n",
       "    <tr>\n",
       "      <th>3</th>\n",
       "      <td>11.2</td>\n",
       "      <td>0.28</td>\n",
       "      <td>0.56</td>\n",
       "      <td>1.9</td>\n",
       "      <td>0.075</td>\n",
       "      <td>17.0</td>\n",
       "      <td>60.0</td>\n",
       "      <td>0.9980</td>\n",
       "      <td>3.16</td>\n",
       "      <td>0.58</td>\n",
       "      <td>9.8</td>\n",
       "      <td>6</td>\n",
       "    </tr>\n",
       "    <tr>\n",
       "      <th>4</th>\n",
       "      <td>7.4</td>\n",
       "      <td>0.70</td>\n",
       "      <td>0.00</td>\n",
       "      <td>1.9</td>\n",
       "      <td>0.076</td>\n",
       "      <td>11.0</td>\n",
       "      <td>34.0</td>\n",
       "      <td>0.9978</td>\n",
       "      <td>3.51</td>\n",
       "      <td>0.56</td>\n",
       "      <td>9.4</td>\n",
       "      <td>5</td>\n",
       "    </tr>\n",
       "  </tbody>\n",
       "</table>\n",
       "</div>"
      ],
      "text/plain": [
       "   fixed acidity  volatile acidity  citric acid  residual sugar  chlorides  \\\n",
       "0            7.4              0.70         0.00             1.9      0.076   \n",
       "1            7.8              0.88         0.00             2.6      0.098   \n",
       "2            7.8              0.76         0.04             2.3      0.092   \n",
       "3           11.2              0.28         0.56             1.9      0.075   \n",
       "4            7.4              0.70         0.00             1.9      0.076   \n",
       "\n",
       "   free sulfur dioxide  total sulfur dioxide  density    pH  sulphates  \\\n",
       "0                 11.0                  34.0   0.9978  3.51       0.56   \n",
       "1                 25.0                  67.0   0.9968  3.20       0.68   \n",
       "2                 15.0                  54.0   0.9970  3.26       0.65   \n",
       "3                 17.0                  60.0   0.9980  3.16       0.58   \n",
       "4                 11.0                  34.0   0.9978  3.51       0.56   \n",
       "\n",
       "   alcohol  quality  \n",
       "0      9.4        5  \n",
       "1      9.8        5  \n",
       "2      9.8        5  \n",
       "3      9.8        6  \n",
       "4      9.4        5  "
      ]
     },
     "execution_count": 2,
     "metadata": {},
     "output_type": "execute_result"
    }
   ],
   "source": [
    "data = pd.read_csv('winequality-red.csv', sep=\";\")\n",
    "print('%d échantillons et %d features' % data.shape)\n",
    "\n",
    "data.head()"
   ]
  },
  {
   "cell_type": "markdown",
   "metadata": {},
   "source": [
    "### Préparation et standardisation\n",
    "Préparation des données (extraction des features et de la target)\n",
    "\n",
    "Standardisation des valeurs pour obtenir des ordres de grandeur comparables\n",
    "\n",
    "Les sets ne sont pas générés aléatoirement (pour pouvoir mieux comparer les résultats) grâce au paramètre <code>random_state=0</code>"
   ]
  },
  {
   "cell_type": "code",
   "execution_count": 3,
   "metadata": {},
   "outputs": [],
   "source": [
    "# préparation des données\n",
    "X = data.as_matrix(data.columns[:-1])\n",
    "y = data.as_matrix([data.columns[-1]])\n",
    "y = y.flatten()\n",
    "\n",
    "# séparation entraînement / test\n",
    "from sklearn import model_selection\n",
    "X_train, X_test, y_train, y_test = model_selection.train_test_split(X, y, test_size=0.3, random_state=0)\n",
    "\n",
    "# standardisation\n",
    "from sklearn import preprocessing\n",
    "std_scale = preprocessing.StandardScaler().fit(X_train)\n",
    "X_train_std = std_scale.transform(X_train)\n",
    "X_test_std = std_scale.transform(X_test)"
   ]
  },
  {
   "cell_type": "code",
   "execution_count": 4,
   "metadata": {},
   "outputs": [
    {
     "data": {
      "text/html": [
       "<div>\n",
       "<style scoped>\n",
       "    .dataframe tbody tr th:only-of-type {\n",
       "        vertical-align: middle;\n",
       "    }\n",
       "\n",
       "    .dataframe tbody tr th {\n",
       "        vertical-align: top;\n",
       "    }\n",
       "\n",
       "    .dataframe thead th {\n",
       "        text-align: right;\n",
       "    }\n",
       "</style>\n",
       "<table border=\"1\" class=\"dataframe\">\n",
       "  <thead>\n",
       "    <tr style=\"text-align: right;\">\n",
       "      <th></th>\n",
       "      <th>Set</th>\n",
       "      <th>Taille</th>\n",
       "    </tr>\n",
       "  </thead>\n",
       "  <tbody>\n",
       "    <tr>\n",
       "      <th>0</th>\n",
       "      <td>Données entrainement</td>\n",
       "      <td>1119 échantillons et 11 features</td>\n",
       "    </tr>\n",
       "    <tr>\n",
       "      <th>1</th>\n",
       "      <td>Données test</td>\n",
       "      <td>480 échantillons et 11 features</td>\n",
       "    </tr>\n",
       "    <tr>\n",
       "      <th>2</th>\n",
       "      <td>cible (target) entrainement</td>\n",
       "      <td>1119 échantillons</td>\n",
       "    </tr>\n",
       "    <tr>\n",
       "      <th>3</th>\n",
       "      <td>cible test</td>\n",
       "      <td>480 échantillons</td>\n",
       "    </tr>\n",
       "  </tbody>\n",
       "</table>\n",
       "</div>"
      ],
      "text/plain": [
       "                           Set                            Taille\n",
       "0         Données entrainement  1119 échantillons et 11 features\n",
       "1                 Données test   480 échantillons et 11 features\n",
       "2  cible (target) entrainement                 1119 échantillons\n",
       "3                   cible test                  480 échantillons"
      ]
     },
     "execution_count": 4,
     "metadata": {},
     "output_type": "execute_result"
    }
   ],
   "source": [
    "pd.DataFrame.from_dict(\n",
    "    {\n",
    "        'Set': ['Données entrainement', 'Données test', 'cible (target) entrainement', 'cible test'],\n",
    "        'Taille': ['%d échantillons et %d features' % m.shape for m in (X_train, X_test)] + ['%d échantillons' % m.shape for m in (y_train, y_test)]\n",
    "    }) "
   ]
  },
  {
   "cell_type": "markdown",
   "metadata": {},
   "source": [
    "### Aperçu des données"
   ]
  },
  {
   "cell_type": "code",
   "execution_count": 5,
   "metadata": {},
   "outputs": [
    {
     "data": {
      "image/png": "[encoded data removed]",
      "text/plain": [
       "<matplotlib.figure.Figure at 0x11fa5c18668>"
      ]
     },
     "metadata": {},
     "output_type": "display_data"
    }
   ],
   "source": [
    "plt.style.use('seaborn-ticks')\n",
    "plt.rcParams.update({'font.size': 14})\n",
    "plt.rcParams.update({'axes.titlesize': 20})\n",
    "\n",
    "fig = plt.figure(figsize=(16, 12))\n",
    "for feat_idx in range(X_train_std.shape[1]):\n",
    "    ax = fig.add_subplot(3, 4, (feat_idx+1), facecolor='#f3f3f3')\n",
    "    h = ax.hist(X_train_std[:, feat_idx], bins=50, normed=True, color='#25ced1', edgecolor='none', label='Train')\n",
    "    h = ax.hist(X_test_std[:, feat_idx], bins=50, normed=True, color='#ffc91499', edgecolor='none', label='Test')\n",
    "    ax.set_title(data.columns[feat_idx], fontsize=14)\n",
    "    ax.legend(loc=\"upper right\")"
   ]
  },
  {
   "cell_type": "markdown",
   "metadata": {},
   "source": [
    "## Etape 2: Optimisation du modèle k-NN\n",
    "\n",
    "### Paramètrage du modèle\n",
    "Définitions des hyperparamètres à tester et initialisation des folds pour la validation croisée.\n",
    "\n",
    "Les folds ne sont pas générés aléatoirement (pour pouvoir mieux comparer les résultats) grâce à <code>shuffle=False</code> et <code>random_state=0</code>"
   ]
  },
  {
   "cell_type": "code",
   "execution_count": 6,
   "metadata": {},
   "outputs": [],
   "source": [
    "from sklearn import neighbors, metrics\n",
    "\n",
    "# Fixer les valeurs des hyperparamètres à tester\n",
    "param_grid = {'n_neighbors':[3, 5, 7, 9, 11, 13, 15, 17, 19, 21, 23, 25]}\n",
    "\n",
    "# Initialisation des folds\n",
    "cross_validation_folds = model_selection.StratifiedKFold(\n",
    "    n_splits=5, # nombre de folds de validation croisée\n",
    "    shuffle=False,\n",
    "    random_state=0\n",
    ")"
   ]
  },
  {
   "cell_type": "markdown",
   "metadata": {},
   "source": [
    "\n",
    "### Code de l'implémentation personnalisée"
   ]
  },
  {
   "cell_type": "code",
   "execution_count": 7,
   "metadata": {},
   "outputs": [],
   "source": [
    "import itertools as it\n",
    "\n",
    "class MyCrossValidation:\n",
    "    def __init__(self, estimator, param_grid, cv):\n",
    "        \"\"\"Constructeur\n",
    "        \n",
    "        Args:\n",
    "            estimator (object): classificateur à valider\n",
    "            param_grid (dict): hyperparamètres à tester\n",
    "            cv (object): algorithme de création des folds\n",
    "        \"\"\"\n",
    "        self.estimator = estimator\n",
    "        self.param_grid = param_grid\n",
    "        self.cv = cv\n",
    "        self.cv_results_ = []\n",
    "    \n",
    "    def fit(self, X, y):\n",
    "        \"\"\"Lance le calcul avec les jeux de données fournis\n",
    "        \n",
    "        Args:\n",
    "            X (array-like, sparse matrix): variables features \n",
    "            y (array-like, sparse matrix): variables cible (target)\n",
    "        \"\"\"\n",
    "        # pour chaque combinaison d'hyperparamètres\n",
    "        for hyper_parameters in self.get_hyper_parameter_combinations():\n",
    "            # evaluer la performance du modèle\n",
    "            self.eval_performance_for_params(X, y, hyper_parameters)\n",
    "        \n",
    "        self.consolidate_results()\n",
    "        self.setup_best_estimator(X, y)\n",
    "        \n",
    "    def get_hyper_parameter_combinations(self):\n",
    "        \"\"\"\n",
    "        Calcule les différentes combinaisons de la grille des hyper-paramètres\n",
    "        \n",
    "        Par exemple {'P': [0, 1, 2]} devient [{'P': 0}, {'P': 1}, {'P': 2}]\n",
    "        \"\"\"\n",
    "        names = sorted(self.param_grid)\n",
    "        return [dict(zip(names, prod)) for prod in it.product(*(self.param_grid[name] for name in names))]\n",
    "    \n",
    "    def eval_performance_for_params(self, X, y, hyper_parameters):\n",
    "        \"\"\"\n",
    "        Estime la performance du modèle suivant les hyperparamètres fournis,\n",
    "        à l'aide d'une validation croisée, et stocke les résultats\n",
    "        \n",
    "        Args:\n",
    "            X (array-like, sparse matrix): variables features \n",
    "            y (array-like, sparse matrix): variables cible (target)\n",
    "            hyper_parameters (dict): hyperparamètres utilisés pour le modèle à évaluer\n",
    "        \"\"\"\n",
    "        self.estimator.set_params(**hyper_parameters)\n",
    "        scores = list(self.eval_performance_for_each_fold(X, y))\n",
    "        self.store_results(hyper_parameters, scores)\n",
    "        \n",
    "    def eval_performance_for_each_fold(self, X, y):\n",
    "        \"\"\"\n",
    "        Estime la performance du modèle à l'aide d'une validation croisée,\n",
    "        pour chaque fold défini par self.cv\n",
    "        \n",
    "        Args:\n",
    "            X (array-like, sparse matrix): variables features \n",
    "            y (array-like, sparse matrix): variables cible (target)\n",
    "            \n",
    "        Yields:\n",
    "            object: pour chaque fold, la mean_squared_error et le coefficient R2\n",
    "        \"\"\"\n",
    "        # pour chaque fold\n",
    "        fold_indices = self.cv.split(X, y)\n",
    "        for train_index, validation_index in fold_indices:\n",
    "            # recuperation des sets pour le fold en cours\n",
    "            X_train = X[train_index]\n",
    "            X_validation = X[validation_index]\n",
    "            y_train = y[train_index]\n",
    "            y_validation = y[validation_index]\n",
    "            \n",
    "            # entrainement de l'estimateur\n",
    "            self.estimator.fit(X_train, y_train)\n",
    "            \n",
    "            # évaluation de la performance pour ce fold\n",
    "            y_pred = self.estimator.predict(X_validation)\n",
    "            yield {\n",
    "                'mean_squared_error': metrics.mean_squared_error(y_validation, y_pred),\n",
    "                'r2_score': metrics.r2_score(y_validation, y_pred)\n",
    "            }\n",
    "    \n",
    "    def store_results(self, hyper_parameters, scores):\n",
    "        self.cv_results_.append({\n",
    "            'params': hyper_parameters,\n",
    "            # La MSE globale est égale à la moyenne arithmétique des MSE de chaque fold\n",
    "            'mean_squared_error': np.mean([x['mean_squared_error'] for x in scores]),\n",
    "            'mean_squared_error_std': np.std([x['mean_squared_error'] for x in scores]),\n",
    "            # La R^2 globale est estimée avec la moyenne arithmétique des R^2 de chaque fold\n",
    "            # même si ce n'est pas tout à fait exact mathématiquement\n",
    "            'r2_score': np.mean([x['r2_score'] for x in scores]),\n",
    "            'r2_score_std': np.std([x['r2_score'] for x in scores]),\n",
    "            'scores': scores\n",
    "        })\n",
    "    \n",
    "    def consolidate_results(self):\n",
    "        \"\"\"Convertit les résultats au format DataFrame\"\"\"\n",
    "        self.cv_results_ = pd.DataFrame(self.cv_results_)\n",
    "    \n",
    "    @property\n",
    "    def best_params_(self):\n",
    "        \"\"\"Recupère les meilleurs hyperparamètres\"\"\"\n",
    "        idx_max = self.cv_results_['mean_squared_error'].idxmin()\n",
    "        return self.cv_results_['params'][idx_max]\n",
    "    \n",
    "    def setup_best_estimator(self, X, y):\n",
    "        \"\"\"Initialise un estimateur avec les meilleurs hyperparamètres,\n",
    "        qui est ensuite entraîné avec les données fournies\n",
    "        \n",
    "        Args:\n",
    "            X (array-like, sparse matrix): variables features \n",
    "            y (array-like, sparse matrix): variables cible (target)\n",
    "        \"\"\"\n",
    "        hyper_parameters = self.best_params_\n",
    "        self.estimator.set_params(**hyper_parameters)\n",
    "        self.estimator.fit(X, y)\n",
    "        \n",
    "    def predict(self, X):\n",
    "        \"\"\"Réalise une prédiction avec l'estimateur avec les meilleurs\n",
    "        hyperparamètres\n",
    "        \n",
    "        Args:\n",
    "            X (array-like, sparse matrix): variables features\n",
    "        \"\"\"\n",
    "        return self.estimator.predict(X)\n"
   ]
  },
  {
   "cell_type": "markdown",
   "metadata": {},
   "source": [
    "### Lancement de l'estimation"
   ]
  },
  {
   "cell_type": "code",
   "execution_count": 8,
   "metadata": {},
   "outputs": [],
   "source": [
    "mcv = MyCrossValidation(neighbors.KNeighborsRegressor(),\n",
    "    param_grid, # hyperparamètres à tester\n",
    "    cv=cross_validation_folds # validation croisée\n",
    "    )\n",
    "\n",
    "# Optimiser ce classifieur sur le jeu d'entraînement\n",
    "mcv.fit(X_train_std, y_train)"
   ]
  },
  {
   "cell_type": "markdown",
   "metadata": {},
   "source": [
    "### Résultats de la validation croisée"
   ]
  },
  {
   "cell_type": "code",
   "execution_count": 9,
   "metadata": {
    "scrolled": true
   },
   "outputs": [
    {
     "name": "stdout",
     "output_type": "stream",
     "text": [
      "Meilleur(s) hyperparamètre(s) sur le jeu d'entraînement:\n",
      "{'n_neighbors': 15}\n"
     ]
    },
    {
     "data": {
      "text/html": [
       "<div>\n",
       "<style scoped>\n",
       "    .dataframe tbody tr th:only-of-type {\n",
       "        vertical-align: middle;\n",
       "    }\n",
       "\n",
       "    .dataframe tbody tr th {\n",
       "        vertical-align: top;\n",
       "    }\n",
       "\n",
       "    .dataframe thead th {\n",
       "        text-align: right;\n",
       "    }\n",
       "</style>\n",
       "<table border=\"1\" class=\"dataframe\">\n",
       "  <thead>\n",
       "    <tr style=\"text-align: right;\">\n",
       "      <th></th>\n",
       "      <th>MSE moyen</th>\n",
       "      <th>R^2 moyen</th>\n",
       "      <th>hyperparamètres</th>\n",
       "      <th>écart-type de R^2</th>\n",
       "      <th>écart-type de la MSE</th>\n",
       "    </tr>\n",
       "  </thead>\n",
       "  <tbody>\n",
       "    <tr>\n",
       "      <th>0</th>\n",
       "      <td>0.488816</td>\n",
       "      <td>0.278707</td>\n",
       "      <td>{'n_neighbors': 3}</td>\n",
       "      <td>0.108559</td>\n",
       "      <td>0.093539</td>\n",
       "    </tr>\n",
       "    <tr>\n",
       "      <th>1</th>\n",
       "      <td>0.469296</td>\n",
       "      <td>0.307415</td>\n",
       "      <td>{'n_neighbors': 5}</td>\n",
       "      <td>0.064741</td>\n",
       "      <td>0.066886</td>\n",
       "    </tr>\n",
       "    <tr>\n",
       "      <th>2</th>\n",
       "      <td>0.453042</td>\n",
       "      <td>0.331351</td>\n",
       "      <td>{'n_neighbors': 7}</td>\n",
       "      <td>0.050574</td>\n",
       "      <td>0.058253</td>\n",
       "    </tr>\n",
       "    <tr>\n",
       "      <th>3</th>\n",
       "      <td>0.443908</td>\n",
       "      <td>0.344354</td>\n",
       "      <td>{'n_neighbors': 9}</td>\n",
       "      <td>0.030615</td>\n",
       "      <td>0.037374</td>\n",
       "    </tr>\n",
       "    <tr>\n",
       "      <th>4</th>\n",
       "      <td>0.440525</td>\n",
       "      <td>0.349074</td>\n",
       "      <td>{'n_neighbors': 11}</td>\n",
       "      <td>0.034249</td>\n",
       "      <td>0.028641</td>\n",
       "    </tr>\n",
       "    <tr>\n",
       "      <th>5</th>\n",
       "      <td>0.434967</td>\n",
       "      <td>0.357660</td>\n",
       "      <td>{'n_neighbors': 13}</td>\n",
       "      <td>0.025701</td>\n",
       "      <td>0.038043</td>\n",
       "    </tr>\n",
       "    <tr>\n",
       "      <th>6</th>\n",
       "      <td>0.434013</td>\n",
       "      <td>0.359171</td>\n",
       "      <td>{'n_neighbors': 15}</td>\n",
       "      <td>0.032672</td>\n",
       "      <td>0.043055</td>\n",
       "    </tr>\n",
       "    <tr>\n",
       "      <th>7</th>\n",
       "      <td>0.436959</td>\n",
       "      <td>0.354700</td>\n",
       "      <td>{'n_neighbors': 17}</td>\n",
       "      <td>0.035277</td>\n",
       "      <td>0.041084</td>\n",
       "    </tr>\n",
       "    <tr>\n",
       "      <th>8</th>\n",
       "      <td>0.439956</td>\n",
       "      <td>0.350361</td>\n",
       "      <td>{'n_neighbors': 19}</td>\n",
       "      <td>0.038676</td>\n",
       "      <td>0.044914</td>\n",
       "    </tr>\n",
       "    <tr>\n",
       "      <th>9</th>\n",
       "      <td>0.439449</td>\n",
       "      <td>0.351145</td>\n",
       "      <td>{'n_neighbors': 21}</td>\n",
       "      <td>0.043645</td>\n",
       "      <td>0.047901</td>\n",
       "    </tr>\n",
       "    <tr>\n",
       "      <th>10</th>\n",
       "      <td>0.439699</td>\n",
       "      <td>0.350911</td>\n",
       "      <td>{'n_neighbors': 23}</td>\n",
       "      <td>0.037350</td>\n",
       "      <td>0.048628</td>\n",
       "    </tr>\n",
       "    <tr>\n",
       "      <th>11</th>\n",
       "      <td>0.439358</td>\n",
       "      <td>0.351552</td>\n",
       "      <td>{'n_neighbors': 25}</td>\n",
       "      <td>0.041290</td>\n",
       "      <td>0.053155</td>\n",
       "    </tr>\n",
       "  </tbody>\n",
       "</table>\n",
       "</div>"
      ],
      "text/plain": [
       "    MSE moyen  R^2 moyen      hyperparamètres  écart-type de R^2  \\\n",
       "0    0.488816   0.278707   {'n_neighbors': 3}           0.108559   \n",
       "1    0.469296   0.307415   {'n_neighbors': 5}           0.064741   \n",
       "2    0.453042   0.331351   {'n_neighbors': 7}           0.050574   \n",
       "3    0.443908   0.344354   {'n_neighbors': 9}           0.030615   \n",
       "4    0.440525   0.349074  {'n_neighbors': 11}           0.034249   \n",
       "5    0.434967   0.357660  {'n_neighbors': 13}           0.025701   \n",
       "6    0.434013   0.359171  {'n_neighbors': 15}           0.032672   \n",
       "7    0.436959   0.354700  {'n_neighbors': 17}           0.035277   \n",
       "8    0.439956   0.350361  {'n_neighbors': 19}           0.038676   \n",
       "9    0.439449   0.351145  {'n_neighbors': 21}           0.043645   \n",
       "10   0.439699   0.350911  {'n_neighbors': 23}           0.037350   \n",
       "11   0.439358   0.351552  {'n_neighbors': 25}           0.041290   \n",
       "\n",
       "    écart-type de la MSE  \n",
       "0               0.093539  \n",
       "1               0.066886  \n",
       "2               0.058253  \n",
       "3               0.037374  \n",
       "4               0.028641  \n",
       "5               0.038043  \n",
       "6               0.043055  \n",
       "7               0.041084  \n",
       "8               0.044914  \n",
       "9               0.047901  \n",
       "10              0.048628  \n",
       "11              0.053155  "
      ]
     },
     "execution_count": 9,
     "metadata": {},
     "output_type": "execute_result"
    }
   ],
   "source": [
    "# Afficher le(s) hyperparamètre(s) optimaux\n",
    "print (\"Meilleur(s) hyperparamètre(s) sur le jeu d'entraînement:\")\n",
    "print (mcv.best_params_)\n",
    "\n",
    "my_cross_validation_results = pd.DataFrame.from_dict(\n",
    "    {\n",
    "        'MSE moyen' : mcv.cv_results_['mean_squared_error'],\n",
    "        'écart-type de la MSE': mcv.cv_results_['mean_squared_error_std'] * 2,\n",
    "        'R^2 moyen' : mcv.cv_results_['r2_score'],\n",
    "        'écart-type de R^2': mcv.cv_results_['r2_score_std'] * 2,\n",
    "        'hyperparamètres': mcv.cv_results_['params']\n",
    "    })\n",
    "\n",
    "my_cross_validation_results"
   ]
  },
  {
   "cell_type": "code",
   "execution_count": 10,
   "metadata": {},
   "outputs": [
    {
     "name": "stdout",
     "output_type": "stream",
     "text": [
      "\n",
      "Sur le jeu de test : 0.461\n"
     ]
    }
   ],
   "source": [
    "y_pred = mcv.predict(X_test_std)\n",
    "print (\"\\nSur le jeu de test : %0.3f\" % metrics.mean_squared_error(y_test, y_pred))"
   ]
  },
  {
   "cell_type": "markdown",
   "metadata": {},
   "source": [
    "### Résultats fournis par scikit\n",
    "Pour vérification, une validation croisée avec <code>GridSearchCV</code> est lancée\n",
    "\n",
    "On constate que les résultats sont quasiment identiques"
   ]
  },
  {
   "cell_type": "code",
   "execution_count": 11,
   "metadata": {},
   "outputs": [
    {
     "name": "stdout",
     "output_type": "stream",
     "text": [
      "Meilleur(s) hyperparamètre(s) sur le jeu d'entraînement:\n",
      "{'n_neighbors': 15}\n",
      "\n",
      "Sur le jeu de test : 0.461\n"
     ]
    },
    {
     "data": {
      "text/html": [
       "<div>\n",
       "<style scoped>\n",
       "    .dataframe tbody tr th:only-of-type {\n",
       "        vertical-align: middle;\n",
       "    }\n",
       "\n",
       "    .dataframe tbody tr th {\n",
       "        vertical-align: top;\n",
       "    }\n",
       "\n",
       "    .dataframe thead th {\n",
       "        text-align: right;\n",
       "    }\n",
       "</style>\n",
       "<table border=\"1\" class=\"dataframe\">\n",
       "  <thead>\n",
       "    <tr style=\"text-align: right;\">\n",
       "      <th></th>\n",
       "      <th>hyperparamètres</th>\n",
       "      <th>score moyen</th>\n",
       "    </tr>\n",
       "  </thead>\n",
       "  <tbody>\n",
       "    <tr>\n",
       "      <th>0</th>\n",
       "      <td>{'n_neighbors': 3}</td>\n",
       "      <td>-0.489127</td>\n",
       "    </tr>\n",
       "    <tr>\n",
       "      <th>1</th>\n",
       "      <td>{'n_neighbors': 5}</td>\n",
       "      <td>-0.469562</td>\n",
       "    </tr>\n",
       "    <tr>\n",
       "      <th>2</th>\n",
       "      <td>{'n_neighbors': 7}</td>\n",
       "      <td>-0.453284</td>\n",
       "    </tr>\n",
       "    <tr>\n",
       "      <th>3</th>\n",
       "      <td>{'n_neighbors': 9}</td>\n",
       "      <td>-0.444080</td>\n",
       "    </tr>\n",
       "    <tr>\n",
       "      <th>4</th>\n",
       "      <td>{'n_neighbors': 11}</td>\n",
       "      <td>-0.440631</td>\n",
       "    </tr>\n",
       "    <tr>\n",
       "      <th>5</th>\n",
       "      <td>{'n_neighbors': 13}</td>\n",
       "      <td>-0.435141</td>\n",
       "    </tr>\n",
       "    <tr>\n",
       "      <th>6</th>\n",
       "      <td>{'n_neighbors': 15}</td>\n",
       "      <td>-0.434201</td>\n",
       "    </tr>\n",
       "    <tr>\n",
       "      <th>7</th>\n",
       "      <td>{'n_neighbors': 17}</td>\n",
       "      <td>-0.437143</td>\n",
       "    </tr>\n",
       "    <tr>\n",
       "      <th>8</th>\n",
       "      <td>{'n_neighbors': 19}</td>\n",
       "      <td>-0.440161</td>\n",
       "    </tr>\n",
       "    <tr>\n",
       "      <th>9</th>\n",
       "      <td>{'n_neighbors': 21}</td>\n",
       "      <td>-0.439664</td>\n",
       "    </tr>\n",
       "    <tr>\n",
       "      <th>10</th>\n",
       "      <td>{'n_neighbors': 23}</td>\n",
       "      <td>-0.439938</td>\n",
       "    </tr>\n",
       "    <tr>\n",
       "      <th>11</th>\n",
       "      <td>{'n_neighbors': 25}</td>\n",
       "      <td>-0.439618</td>\n",
       "    </tr>\n",
       "  </tbody>\n",
       "</table>\n",
       "</div>"
      ],
      "text/plain": [
       "        hyperparamètres  score moyen\n",
       "0    {'n_neighbors': 3}    -0.489127\n",
       "1    {'n_neighbors': 5}    -0.469562\n",
       "2    {'n_neighbors': 7}    -0.453284\n",
       "3    {'n_neighbors': 9}    -0.444080\n",
       "4   {'n_neighbors': 11}    -0.440631\n",
       "5   {'n_neighbors': 13}    -0.435141\n",
       "6   {'n_neighbors': 15}    -0.434201\n",
       "7   {'n_neighbors': 17}    -0.437143\n",
       "8   {'n_neighbors': 19}    -0.440161\n",
       "9   {'n_neighbors': 21}    -0.439664\n",
       "10  {'n_neighbors': 23}    -0.439938\n",
       "11  {'n_neighbors': 25}    -0.439618"
      ]
     },
     "execution_count": 11,
     "metadata": {},
     "output_type": "execute_result"
    }
   ],
   "source": [
    "# Créer un classifieur kNN avec recherche d'hyperparamètre par validation croisée\n",
    "clf = model_selection.GridSearchCV(neighbors.KNeighborsRegressor(),\n",
    "    param_grid, # hyperparamètres à tester\n",
    "    cv=cross_validation_folds, # validation croisée\n",
    "    scoring='neg_mean_squared_error' # score à optimiser\n",
    "    )\n",
    "\n",
    "# Optimiser ce classifieur sur le jeu d'entraînement\n",
    "clf.fit(X_train_std, y_train)\n",
    "\n",
    "# Afficher le(s) hyperparamètre(s) optimaux\n",
    "print (\"Meilleur(s) hyperparamètre(s) sur le jeu d'entraînement:\")\n",
    "print (clf.best_params_)\n",
    "\n",
    "y_pred = clf.predict(X_test_std)\n",
    "print (\"\\nSur le jeu de test : %0.3f\" % metrics.mean_squared_error(y_test, y_pred))\n",
    "\n",
    "pd.DataFrame.from_dict(\n",
    "    {\n",
    "        'score moyen' : clf.cv_results_['mean_test_score'],\n",
    "        'hyperparamètres': clf.cv_results_['params']\n",
    "    })"
   ]
  },
  {
   "cell_type": "markdown",
   "metadata": {},
   "source": [
    "### Analyse du comportement de la MSE\n",
    "Ce graphique présente l'évolution de la MSE en fonction des hyperparamètres"
   ]
  },
  {
   "cell_type": "code",
   "execution_count": 12,
   "metadata": {},
   "outputs": [
    {
     "data": {
      "image/png": "[encoded data removed]",
      "text/plain": [
       "<matplotlib.figure.Figure at 0x11fa6c0af28>"
      ]
     },
     "metadata": {},
     "output_type": "display_data"
    }
   ],
   "source": [
    "x = [x['n_neighbors'] for x in mcv.cv_results_['params']]\n",
    "data = mcv.cv_results_['mean_squared_error'].tolist()\n",
    "\n",
    "fig = plt.figure(figsize=(8,5))\n",
    "ax = plt.axes(facecolor='#f3f3f3')\n",
    "plt.grid(color='w', linestyle='dashed')\n",
    "plt.scatter(x, data, label='MSE', color='#25ced1')\n",
    "plt.title(\"MSE (moyenne) vs nombre de voisins\")\n",
    "plt.legend(loc='best')\n",
    "ax.set(xlabel='Nombre de voisins', ylabel='Erreur quadratique moyenne (MSE)')\n",
    "plt.show()"
   ]
  },
  {
   "cell_type": "markdown",
   "metadata": {},
   "source": [
    "L'erreur quadratique moyenne diminue avec l'évolution du nombre de voisins. Or plus l'erreur est faible plus l'estimateur fournit de bons résultats. Il semble donc que le meilleur hyperparamètre est donc le nombre de voisins <code>k = 15</code>)\n",
    "\n",
    "L'augmentation du nombre de voisins semble améliorer le comportement du modèle, mais de manière asymptotique et jusqu'à un certain seuil, au delà duquel la qualité des prédictions semble stagner (voire redevenir moins bonne).\n",
    "\n",
    "Pour optimiser les temps de calcul on a donc intérêt à conserver l'hyperparamètre le plus faible à partir duquel la qualité des prédictions est acceptable.\n",
    "\n",
    "### Analyse du comportement de la R^2\n",
    "Ce graphique présente l'évolution de la R^2 en fonction des hyperparamètres\n",
    "\n",
    "La MSE est aussi affichée, pour comparaison"
   ]
  },
  {
   "cell_type": "code",
   "execution_count": 13,
   "metadata": {},
   "outputs": [
    {
     "data": {
      "image/png": "[encoded data removed]",
      "text/plain": [
       "<matplotlib.figure.Figure at 0x11fa6c21630>"
      ]
     },
     "metadata": {},
     "output_type": "display_data"
    }
   ],
   "source": [
    "x = [x['n_neighbors'] for x in mcv.cv_results_['params']]\n",
    "data_1 = mcv.cv_results_['mean_squared_error'].tolist()\n",
    "data_2 = mcv.cv_results_['r2_score'].tolist()\n",
    "\n",
    "fig = plt.figure(figsize=(8,5))\n",
    "ax1 = plt.axes(facecolor='#f3f3f3')\n",
    "ax1.scatter(x, data_1, label='MSE', color='#25ced1')\n",
    "ax1.set(xlabel='Nombre de voisins', ylabel='MSE')\n",
    "ax1.legend(bbox_to_anchor=(1.4, .5), loc='upper right')\n",
    "\n",
    "ax2 = ax1.twinx()\n",
    "ax2.scatter(x, data_2, label='R^2', color='#ffc914')\n",
    "ax2.set(xlabel='Nombre de voisins', ylabel='R^2')\n",
    "ax2.legend(bbox_to_anchor=(1.4, .6), loc='upper right')\n",
    "\n",
    "plt.grid(color='w', linestyle='dashed')\n",
    "plt.title(\"MSE et R^2 vs nombre de voisins\")\n",
    "\n",
    "plt.show()"
   ]
  },
  {
   "cell_type": "markdown",
   "metadata": {},
   "source": [
    "Inversement à la MSE, le coefficient de détermination augmente avec l'évolution du nombre de voisins. Plus il est grand plus les valeurs prédites sont correlées avec les valeurs réelles.\n",
    "\n",
    "Les deux valeurs semblent évoluer de manière semblable.\n",
    "\n",
    "Le graphique suivant présente la relation entre les valeurs prédites et les valeurs réelles sur le jeu de test, avec l'estimateur avec les meilleurs hyperparamètres."
   ]
  },
  {
   "cell_type": "code",
   "execution_count": 14,
   "metadata": {},
   "outputs": [
    {
     "data": {
      "image/png": "[encoded data removed]",
      "text/plain": [
       "<matplotlib.figure.Figure at 0x11fa6cdd278>"
      ]
     },
     "metadata": {},
     "output_type": "display_data"
    }
   ],
   "source": [
    "sizes = {} # clé : coordonnées ; valeur : nombre de points à ces coordonnées\n",
    "for (yt, yp) in zip(list(y_test), list(y_pred)):\n",
    "    if (yt, yp) in sizes:\n",
    "        sizes[(yt, yp)] += 1\n",
    "    else:\n",
    "        sizes[(yt, yp)] = 1\n",
    "\n",
    "keys = sizes.keys()\n",
    "\n",
    "fig = plt.figure(figsize=(8,5))\n",
    "ax = plt.axes(facecolor='#f3f3f3')\n",
    "plt.grid(color='w', linestyle='dashed')\n",
    "plt.scatter([k[0] for k in keys], # vraie valeur (abscisse)\n",
    "[k[1] for k in keys], # valeur predite (ordonnee)\n",
    "s=[sizes[k] * 10 for k in keys], # taille du marqueur\n",
    "color='coral')\n",
    "\n",
    "plt.title(\"Valeur réelle vs Valeur prédite\")\n",
    "ax.set(xlabel='Valeur réelle', ylabel='Valeur prédite')\n",
    "plt.show()"
   ]
  },
  {
   "cell_type": "markdown",
   "metadata": {},
   "source": [
    "On note une accumulation de prédictions correctes sur la diagonale. Néanmoins le modèle n'est pas très précis dans ses prédictions. Cela fait partie des limites du k-NN.\n",
    "\n",
    "## Etape 3. Comparaison des résultats avec des approches naïves\n",
    "### Modèle aléatoire\n",
    "\n",
    "Comparons le modèle à une première approche naïve, qui consiste à prédire des valeurs aléatoires, distribuées uniformément entre les valeurs basse et haute des étiquettes du jeu de données d'entraînement."
   ]
  },
  {
   "cell_type": "code",
   "execution_count": 15,
   "metadata": {},
   "outputs": [
    {
     "name": "stdout",
     "output_type": "stream",
     "text": [
      "RMSE : 1.799\n"
     ]
    }
   ],
   "source": [
    "y_pred_random = np.random.randint(np.min(y), np.max(y), y_test.shape)\n",
    "print(\"RMSE : %.3f\" % np.sqrt(metrics.mean_squared_error(y_test, y_pred_random)))"
   ]
  },
  {
   "cell_type": "markdown",
   "metadata": {},
   "source": [
    "Pour mémoire, la RMSE de notre modèle k-NN optimisé"
   ]
  },
  {
   "cell_type": "code",
   "execution_count": 16,
   "metadata": {
    "scrolled": true
   },
   "outputs": [
    {
     "name": "stdout",
     "output_type": "stream",
     "text": [
      "RMSE: 0.679\n"
     ]
    }
   ],
   "source": [
    "y_pred = mcv.predict(X_test_std)\n",
    "print (\"RMSE: %.3f\" % np.sqrt(metrics.mean_squared_error(y_test, y_pred)))"
   ]
  },
  {
   "cell_type": "markdown",
   "metadata": {},
   "source": [
    "Notre modèle a ainsi réussi à bien mieux apprendre qu'un modèle aléatoire.\n",
    "\n",
    "Comparons notre modèle à un modèle qui retourne la valeur moyenne des étiquettes du jeu de données d'entraînement."
   ]
  },
  {
   "cell_type": "code",
   "execution_count": 17,
   "metadata": {},
   "outputs": [
    {
     "name": "stdout",
     "output_type": "stream",
     "text": [
      "RMSE : 0.770\n"
     ]
    }
   ],
   "source": [
    "from sklearn import dummy\n",
    "dum = dummy.DummyRegressor(strategy='mean')\n",
    "\n",
    "# Entraînement\n",
    "dum.fit(X_train_std, y_train)\n",
    "\n",
    "# Prédiction sur le jeu de test\n",
    "y_pred_dum = dum.predict(X_test_std)\n",
    "\n",
    "# Evaluate\n",
    "print(\"RMSE : %.3f\" % np.sqrt(metrics.mean_squared_error(y_test, y_pred_dum)))"
   ]
  },
  {
   "cell_type": "markdown",
   "metadata": {},
   "source": [
    "Le kNN a donc appris plus que la moyenne des étiquettes.\n",
    "\n",
    "Comparons notre modèle à un modèle qui retourne la valeur médiane des étiquettes du jeu de données d'entraînement."
   ]
  },
  {
   "cell_type": "code",
   "execution_count": 18,
   "metadata": {},
   "outputs": [
    {
     "name": "stdout",
     "output_type": "stream",
     "text": [
      "RMSE : 0.866\n"
     ]
    }
   ],
   "source": [
    "from sklearn import dummy\n",
    "dum = dummy.DummyRegressor(strategy='median')\n",
    "\n",
    "# Entraînement\n",
    "dum.fit(X_train_std, y_train)\n",
    "\n",
    "# Prédiction sur le jeu de test\n",
    "y_pred_dum = dum.predict(X_test_std)\n",
    "\n",
    "# Evaluate\n",
    "print(\"RMSE : %.3f\" % np.sqrt(metrics.mean_squared_error(y_test, y_pred_dum)))"
   ]
  },
  {
   "cell_type": "code",
   "execution_count": null,
   "metadata": {},
   "outputs": [],
   "source": []
  }
 ],
 "metadata": {
  "kernelspec": {
   "display_name": "Python 3",
   "language": "python",
   "name": "python3"
  },
  "language_info": {
   "codemirror_mode": {
    "name": "ipython",
    "version": 3
   },
   "file_extension": ".py",
   "mimetype": "text/x-python",
   "name": "python",
   "nbconvert_exporter": "python",
   "pygments_lexer": "ipython3",
   "version": "3.6.4"
  }
 },
 "nbformat": 4,
 "nbformat_minor": 2
}
