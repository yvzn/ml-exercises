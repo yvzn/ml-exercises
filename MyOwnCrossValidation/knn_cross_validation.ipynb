{
 "cells": [
  {
   "cell_type": "markdown",
   "metadata": {},
   "source": [
    "# Implémentation d'une validation croisée\n",
    "\n",
    "Créer une implémentation personnalisée de la validation croisée et tester ses performances vs. l'implémentation de référence fournie par scikit (<code>GridSearchCV</code>)\n",
    "\n",
    "3 étapes:\n",
    "1. Initialisation des données\n",
    "1. Résultats fournis par l'implémentation scikit\n",
    "1. Résultats fournis par l'implémentation personnalisée\n",
    "\n",
    "## Etape 1: Initialisation\n",
    "### Chargement des données\n",
    "Les données sont lues depuis le fichier CSV (identique au TP)"
   ]
  },
  {
   "cell_type": "code",
   "execution_count": 1,
   "metadata": {},
   "outputs": [],
   "source": [
    "%matplotlib inline\n",
    "import pandas as pd\n",
    "import numpy as np\n",
    "import matplotlib.pyplot as plt"
   ]
  },
  {
   "cell_type": "code",
   "execution_count": 2,
   "metadata": {
    "scrolled": true
   },
   "outputs": [
    {
     "name": "stdout",
     "output_type": "stream",
     "text": [
      "4898 échantillons et 12 features\n"
     ]
    },
    {
     "data": {
      "text/html": [
       "<div>\n",
       "<style scoped>\n",
       "    .dataframe tbody tr th:only-of-type {\n",
       "        vertical-align: middle;\n",
       "    }\n",
       "\n",
       "    .dataframe tbody tr th {\n",
       "        vertical-align: top;\n",
       "    }\n",
       "\n",
       "    .dataframe thead th {\n",
       "        text-align: right;\n",
       "    }\n",
       "</style>\n",
       "<table border=\"1\" class=\"dataframe\">\n",
       "  <thead>\n",
       "    <tr style=\"text-align: right;\">\n",
       "      <th></th>\n",
       "      <th>fixed acidity</th>\n",
       "      <th>volatile acidity</th>\n",
       "      <th>citric acid</th>\n",
       "      <th>residual sugar</th>\n",
       "      <th>chlorides</th>\n",
       "      <th>free sulfur dioxide</th>\n",
       "      <th>total sulfur dioxide</th>\n",
       "      <th>density</th>\n",
       "      <th>pH</th>\n",
       "      <th>sulphates</th>\n",
       "      <th>alcohol</th>\n",
       "      <th>quality</th>\n",
       "    </tr>\n",
       "  </thead>\n",
       "  <tbody>\n",
       "    <tr>\n",
       "      <th>0</th>\n",
       "      <td>7.0</td>\n",
       "      <td>0.27</td>\n",
       "      <td>0.36</td>\n",
       "      <td>20.7</td>\n",
       "      <td>0.045</td>\n",
       "      <td>45.0</td>\n",
       "      <td>170.0</td>\n",
       "      <td>1.0010</td>\n",
       "      <td>3.00</td>\n",
       "      <td>0.45</td>\n",
       "      <td>8.8</td>\n",
       "      <td>6</td>\n",
       "    </tr>\n",
       "    <tr>\n",
       "      <th>1</th>\n",
       "      <td>6.3</td>\n",
       "      <td>0.30</td>\n",
       "      <td>0.34</td>\n",
       "      <td>1.6</td>\n",
       "      <td>0.049</td>\n",
       "      <td>14.0</td>\n",
       "      <td>132.0</td>\n",
       "      <td>0.9940</td>\n",
       "      <td>3.30</td>\n",
       "      <td>0.49</td>\n",
       "      <td>9.5</td>\n",
       "      <td>6</td>\n",
       "    </tr>\n",
       "    <tr>\n",
       "      <th>2</th>\n",
       "      <td>8.1</td>\n",
       "      <td>0.28</td>\n",
       "      <td>0.40</td>\n",
       "      <td>6.9</td>\n",
       "      <td>0.050</td>\n",
       "      <td>30.0</td>\n",
       "      <td>97.0</td>\n",
       "      <td>0.9951</td>\n",
       "      <td>3.26</td>\n",
       "      <td>0.44</td>\n",
       "      <td>10.1</td>\n",
       "      <td>6</td>\n",
       "    </tr>\n",
       "    <tr>\n",
       "      <th>3</th>\n",
       "      <td>7.2</td>\n",
       "      <td>0.23</td>\n",
       "      <td>0.32</td>\n",
       "      <td>8.5</td>\n",
       "      <td>0.058</td>\n",
       "      <td>47.0</td>\n",
       "      <td>186.0</td>\n",
       "      <td>0.9956</td>\n",
       "      <td>3.19</td>\n",
       "      <td>0.40</td>\n",
       "      <td>9.9</td>\n",
       "      <td>6</td>\n",
       "    </tr>\n",
       "    <tr>\n",
       "      <th>4</th>\n",
       "      <td>7.2</td>\n",
       "      <td>0.23</td>\n",
       "      <td>0.32</td>\n",
       "      <td>8.5</td>\n",
       "      <td>0.058</td>\n",
       "      <td>47.0</td>\n",
       "      <td>186.0</td>\n",
       "      <td>0.9956</td>\n",
       "      <td>3.19</td>\n",
       "      <td>0.40</td>\n",
       "      <td>9.9</td>\n",
       "      <td>6</td>\n",
       "    </tr>\n",
       "  </tbody>\n",
       "</table>\n",
       "</div>"
      ],
      "text/plain": [
       "   fixed acidity  volatile acidity  citric acid  residual sugar  chlorides  \\\n",
       "0            7.0              0.27         0.36            20.7      0.045   \n",
       "1            6.3              0.30         0.34             1.6      0.049   \n",
       "2            8.1              0.28         0.40             6.9      0.050   \n",
       "3            7.2              0.23         0.32             8.5      0.058   \n",
       "4            7.2              0.23         0.32             8.5      0.058   \n",
       "\n",
       "   free sulfur dioxide  total sulfur dioxide  density    pH  sulphates  \\\n",
       "0                 45.0                 170.0   1.0010  3.00       0.45   \n",
       "1                 14.0                 132.0   0.9940  3.30       0.49   \n",
       "2                 30.0                  97.0   0.9951  3.26       0.44   \n",
       "3                 47.0                 186.0   0.9956  3.19       0.40   \n",
       "4                 47.0                 186.0   0.9956  3.19       0.40   \n",
       "\n",
       "   alcohol  quality  \n",
       "0      8.8        6  \n",
       "1      9.5        6  \n",
       "2     10.1        6  \n",
       "3      9.9        6  \n",
       "4      9.9        6  "
      ]
     },
     "execution_count": 2,
     "metadata": {},
     "output_type": "execute_result"
    }
   ],
   "source": [
    "data = pd.read_csv('winequality-white.csv', sep=\";\")\n",
    "print('%d échantillons et %d features' % data.shape)\n",
    "\n",
    "data.head()"
   ]
  },
  {
   "cell_type": "markdown",
   "metadata": {},
   "source": [
    "### Préparation et standardisation\n",
    "Préparation des données (extraction des features et de la target)\n",
    "\n",
    "Standardisation des valeurs pour obtenir des ordres de grandeur comparables\n",
    "\n",
    "Cette partie est identique au TP, à la différence près que les sets ne sont pas générés aléatoirement (pour pouvoir mieux comparer les résultats) grâce au paramètre <code>random_state=0</code>"
   ]
  },
  {
   "cell_type": "code",
   "execution_count": 3,
   "metadata": {},
   "outputs": [],
   "source": [
    "# préparation des données\n",
    "X = data.as_matrix(data.columns[:-1])\n",
    "y = data.as_matrix([data.columns[-1]])\n",
    "y = y.flatten()\n",
    "\n",
    "# classification\n",
    "y_class = np.where(y<6, 0, 1)\n",
    "\n",
    "# séparation entraînement / test\n",
    "from sklearn import model_selection\n",
    "X_train, X_test, y_train, y_test = model_selection.train_test_split(X, y_class, test_size=0.3, random_state=0)\n",
    "\n",
    "# standardisation\n",
    "from sklearn import preprocessing\n",
    "std_scale = preprocessing.StandardScaler().fit(X_train)\n",
    "X_train_std = std_scale.transform(X_train)\n",
    "X_test_std = std_scale.transform(X_test)"
   ]
  },
  {
   "cell_type": "code",
   "execution_count": 4,
   "metadata": {},
   "outputs": [
    {
     "data": {
      "text/html": [
       "<div>\n",
       "<style scoped>\n",
       "    .dataframe tbody tr th:only-of-type {\n",
       "        vertical-align: middle;\n",
       "    }\n",
       "\n",
       "    .dataframe tbody tr th {\n",
       "        vertical-align: top;\n",
       "    }\n",
       "\n",
       "    .dataframe thead th {\n",
       "        text-align: right;\n",
       "    }\n",
       "</style>\n",
       "<table border=\"1\" class=\"dataframe\">\n",
       "  <thead>\n",
       "    <tr style=\"text-align: right;\">\n",
       "      <th></th>\n",
       "      <th>Set</th>\n",
       "      <th>Taille</th>\n",
       "    </tr>\n",
       "  </thead>\n",
       "  <tbody>\n",
       "    <tr>\n",
       "      <th>0</th>\n",
       "      <td>Données entrainement</td>\n",
       "      <td>3428 échantillons et 11 features</td>\n",
       "    </tr>\n",
       "    <tr>\n",
       "      <th>1</th>\n",
       "      <td>Données test</td>\n",
       "      <td>1470 échantillons et 11 features</td>\n",
       "    </tr>\n",
       "    <tr>\n",
       "      <th>2</th>\n",
       "      <td>cible (target) entrainement</td>\n",
       "      <td>3428 échantillons</td>\n",
       "    </tr>\n",
       "    <tr>\n",
       "      <th>3</th>\n",
       "      <td>cible test</td>\n",
       "      <td>1470 échantillons</td>\n",
       "    </tr>\n",
       "  </tbody>\n",
       "</table>\n",
       "</div>"
      ],
      "text/plain": [
       "                           Set                            Taille\n",
       "0         Données entrainement  3428 échantillons et 11 features\n",
       "1                 Données test  1470 échantillons et 11 features\n",
       "2  cible (target) entrainement                 3428 échantillons\n",
       "3                   cible test                 1470 échantillons"
      ]
     },
     "execution_count": 4,
     "metadata": {},
     "output_type": "execute_result"
    }
   ],
   "source": [
    "pd.DataFrame.from_dict(\n",
    "    {\n",
    "        'Set': ['Données entrainement', 'Données test', 'cible (target) entrainement', 'cible test'],\n",
    "        'Taille': ['%d échantillons et %d features' % m.shape for m in (X_train, X_test)] + ['%d échantillons' % m.shape for m in (y_train, y_test)]\n",
    "    }) "
   ]
  },
  {
   "cell_type": "markdown",
   "metadata": {},
   "source": [
    "### Aperçu des données"
   ]
  },
  {
   "cell_type": "code",
   "execution_count": 5,
   "metadata": {},
   "outputs": [
    {
     "data": {
      "image/png": "[encoded data removed]",
      "text/plain": [
       "<matplotlib.figure.Figure at 0x1ae719525c0>"
      ]
     },
     "metadata": {},
     "output_type": "display_data"
    }
   ],
   "source": [
    "plt.style.use('seaborn-ticks')\n",
    "plt.rcParams.update({'font.size': 14})\n",
    "plt.rcParams.update({'axes.titlesize': 20})\n",
    "\n",
    "fig = plt.figure(figsize=(16, 12))\n",
    "for feat_idx in range(X_train_std.shape[1]):\n",
    "    ax = fig.add_subplot(3, 4, (feat_idx+1), facecolor='#f3f3f3')\n",
    "    h = ax.hist(X_train_std[:, feat_idx], bins=50, normed=True, color='#25ced1', edgecolor='none', label='Train')\n",
    "    h = ax.hist(X_test_std[:, feat_idx], bins=50, normed=True, color='#ffc91499', edgecolor='none', label='Test')\n",
    "    ax.set_title(data.columns[feat_idx], fontsize=14)\n",
    "    ax.legend(loc=\"upper right\")"
   ]
  },
  {
   "cell_type": "markdown",
   "metadata": {},
   "source": [
    "### Paramètrage du modèle\n",
    "Définitions des hyperparamètres et initialisation des folds\n",
    "\n",
    "Identique au TP, à la différence près que les folds ne sont pas générés aléatoirement (pour pouvoir mieux comparer les résultats) grâce à <code>shuffle=False</code> et <code>random_state=0</code>"
   ]
  },
  {
   "cell_type": "code",
   "execution_count": 6,
   "metadata": {},
   "outputs": [],
   "source": [
    "from sklearn import neighbors, metrics\n",
    "\n",
    "# Fixer les valeurs des hyperparamètres à tester\n",
    "param_grid = {'n_neighbors':[3, 5, 7, 9, 11, 13, 15]}\n",
    "\n",
    "# Choisir un score à optimiser, ici l'accuracy (proportion de prédictions correctes)\n",
    "score = 'accuracy'\n",
    "\n",
    "# Initialisation des folds\n",
    "cross_validation_folds = model_selection.StratifiedKFold(\n",
    "    n_splits=5, # nombre de folds de validation croisée\n",
    "    shuffle=False,\n",
    "    random_state=0\n",
    ")"
   ]
  },
  {
   "cell_type": "markdown",
   "metadata": {},
   "source": [
    "### Aperçu des folds\n",
    "\n",
    "Ceci est une prévisualisation simplifiée, uniquement pour information. En effet, afin que le graphique ne mette pas trop de temps à se générer, les échantillons sont groupés par 50, ce qui explique les \"escaliers\" de l'histogramme.\n",
    "\n",
    "En réalité, les limites sont bien définies et les groupes ne se chevauchent pas."
   ]
  },
  {
   "cell_type": "code",
   "execution_count": 7,
   "metadata": {},
   "outputs": [
    {
     "data": {
      "image/png": "[encoded data removed]",
      "text/plain": [
       "<matplotlib.figure.Figure at 0x1ae72d0b4a8>"
      ]
     },
     "metadata": {},
     "output_type": "display_data"
    }
   ],
   "source": [
    "folds_indices = cross_validation_folds.split(X_train_std, y_train)\n",
    "\n",
    "bins = X_train_std.shape[0] // 50\n",
    "fig = plt.figure(figsize=(16, 16))\n",
    "for i, indices in enumerate(folds_indices):\n",
    "    train_index, test_index = indices\n",
    "    ax = fig.add_subplot(5, 1, (i+1), facecolor='#f3f3f3')\n",
    "    h = ax.hist(train_index, color='#25ced1', bins=bins, edgecolor='none', label='Train')\n",
    "    h = ax.hist(test_index, color='#20bf5599', bins=bins, edgecolor='none', label='Validation')\n",
    "    ax.set_title('Fold %d' % (i+1), fontsize=14)\n",
    "    ax.legend(loc=\"upper right\")"
   ]
  },
  {
   "cell_type": "markdown",
   "metadata": {},
   "source": [
    "## Etape 2. Résultats fournis par scikit\n",
    "On utilise <code>GridSearchCV</code> (comme dans le TP)"
   ]
  },
  {
   "cell_type": "code",
   "execution_count": 8,
   "metadata": {},
   "outputs": [
    {
     "name": "stdout",
     "output_type": "stream",
     "text": [
      "Meilleur(s) hyperparamètre(s) sur le jeu d'entraînement:\n",
      "{'n_neighbors': 5}\n"
     ]
    }
   ],
   "source": [
    "# Créer un classifieur kNN avec recherche d'hyperparamètre par validation croisée\n",
    "clf = model_selection.GridSearchCV(neighbors.KNeighborsClassifier(),\n",
    "    param_grid, # hyperparamètres à tester\n",
    "    cv=cross_validation_folds, # validation croisée\n",
    "    scoring=score # score à optimiser\n",
    "    )\n",
    "\n",
    "# Optimiser ce classifieur sur le jeu d'entraînement\n",
    "clf.fit(X_train_std, y_train)\n",
    "\n",
    "# Afficher le(s) hyperparamètre(s) optimaux\n",
    "print (\"Meilleur(s) hyperparamètre(s) sur le jeu d'entraînement:\")\n",
    "print (clf.best_params_)"
   ]
  },
  {
   "cell_type": "markdown",
   "metadata": {},
   "source": [
    "Résultats de la validation croisée"
   ]
  },
  {
   "cell_type": "code",
   "execution_count": 9,
   "metadata": {
    "scrolled": true
   },
   "outputs": [
    {
     "data": {
      "text/html": [
       "<div>\n",
       "<style scoped>\n",
       "    .dataframe tbody tr th:only-of-type {\n",
       "        vertical-align: middle;\n",
       "    }\n",
       "\n",
       "    .dataframe tbody tr th {\n",
       "        vertical-align: top;\n",
       "    }\n",
       "\n",
       "    .dataframe thead th {\n",
       "        text-align: right;\n",
       "    }\n",
       "</style>\n",
       "<table border=\"1\" class=\"dataframe\">\n",
       "  <thead>\n",
       "    <tr style=\"text-align: right;\">\n",
       "      <th></th>\n",
       "      <th>hyperparamètres</th>\n",
       "      <th>score moyen</th>\n",
       "      <th>écart-type du score</th>\n",
       "    </tr>\n",
       "  </thead>\n",
       "  <tbody>\n",
       "    <tr>\n",
       "      <th>0</th>\n",
       "      <td>{'n_neighbors': 3}</td>\n",
       "      <td>0.756709</td>\n",
       "      <td>0.032243</td>\n",
       "    </tr>\n",
       "    <tr>\n",
       "      <th>1</th>\n",
       "      <td>{'n_neighbors': 5}</td>\n",
       "      <td>0.764877</td>\n",
       "      <td>0.018849</td>\n",
       "    </tr>\n",
       "    <tr>\n",
       "      <th>2</th>\n",
       "      <td>{'n_neighbors': 7}</td>\n",
       "      <td>0.755543</td>\n",
       "      <td>0.030606</td>\n",
       "    </tr>\n",
       "    <tr>\n",
       "      <th>3</th>\n",
       "      <td>{'n_neighbors': 9}</td>\n",
       "      <td>0.764294</td>\n",
       "      <td>0.022944</td>\n",
       "    </tr>\n",
       "    <tr>\n",
       "      <th>4</th>\n",
       "      <td>{'n_neighbors': 11}</td>\n",
       "      <td>0.761085</td>\n",
       "      <td>0.017952</td>\n",
       "    </tr>\n",
       "    <tr>\n",
       "      <th>5</th>\n",
       "      <td>{'n_neighbors': 13}</td>\n",
       "      <td>0.760502</td>\n",
       "      <td>0.022019</td>\n",
       "    </tr>\n",
       "    <tr>\n",
       "      <th>6</th>\n",
       "      <td>{'n_neighbors': 15}</td>\n",
       "      <td>0.757585</td>\n",
       "      <td>0.015711</td>\n",
       "    </tr>\n",
       "  </tbody>\n",
       "</table>\n",
       "</div>"
      ],
      "text/plain": [
       "       hyperparamètres  score moyen  écart-type du score\n",
       "0   {'n_neighbors': 3}     0.756709             0.032243\n",
       "1   {'n_neighbors': 5}     0.764877             0.018849\n",
       "2   {'n_neighbors': 7}     0.755543             0.030606\n",
       "3   {'n_neighbors': 9}     0.764294             0.022944\n",
       "4  {'n_neighbors': 11}     0.761085             0.017952\n",
       "5  {'n_neighbors': 13}     0.760502             0.022019\n",
       "6  {'n_neighbors': 15}     0.757585             0.015711"
      ]
     },
     "execution_count": 9,
     "metadata": {},
     "output_type": "execute_result"
    }
   ],
   "source": [
    "sklearn_results = pd.DataFrame.from_dict(\n",
    "    {\n",
    "        'score moyen' : clf.cv_results_['mean_test_score'],\n",
    "        'écart-type du score': clf.cv_results_['std_test_score'] * 2,\n",
    "        'hyperparamètres': clf.cv_results_['params']\n",
    "    })\n",
    "\n",
    "sklearn_results"
   ]
  },
  {
   "cell_type": "code",
   "execution_count": 10,
   "metadata": {},
   "outputs": [
    {
     "name": "stdout",
     "output_type": "stream",
     "text": [
      "\n",
      "Sur le jeu de test : 0.750\n"
     ]
    }
   ],
   "source": [
    "y_pred = clf.predict(X_test_std)\n",
    "print (\"\\nSur le jeu de test : %0.3f\" % metrics.accuracy_score(y_test, y_pred))"
   ]
  },
  {
   "cell_type": "markdown",
   "metadata": {},
   "source": [
    "## Etape 3. Résultats fournis par l'implémentation personnalisée\n",
    "\n",
    "### Code de l'implémentation personnalisée"
   ]
  },
  {
   "cell_type": "code",
   "execution_count": 11,
   "metadata": {},
   "outputs": [],
   "source": [
    "import itertools as it\n",
    "\n",
    "class MyCrossValidation:\n",
    "    def __init__(self, estimator, param_grid, cv, scoring):\n",
    "        \"\"\"Constructeur\n",
    "        \n",
    "        Args:\n",
    "            estimator (object): classificateur à valider\n",
    "            param_grid (dict): hyperparamètres à tester\n",
    "            cv (object): algorithme de création des folds\n",
    "            scoring (string): score à optimiser\n",
    "        \"\"\"\n",
    "        self.estimator = estimator\n",
    "        self.param_grid = param_grid\n",
    "        self.cv = cv\n",
    "        self.scoring = scoring\n",
    "        self.results = [] # les résultats sous forme de liste de dict\n",
    "    \n",
    "    def fit(self, X, y):\n",
    "        \"\"\"Lance le calcul avec les jeux de données fournis\n",
    "        \n",
    "        Args:\n",
    "            X (array-like, sparse matrix): variables features \n",
    "            y (array-like, sparse matrix): variables cible (target)\n",
    "        \"\"\"\n",
    "        # pour chaque combinaison d'hyperparamètres\n",
    "        for hyper_parameters in self.get_hyper_parameter_combinations():\n",
    "            # evaluer la performance du modèle\n",
    "            self.eval_performance_for_params(X, y, hyper_parameters)\n",
    "        \n",
    "        # convertir les résultats au format DataFrame\n",
    "        self.cv_results_ = pd.DataFrame(self.results)\n",
    "        \n",
    "    def get_hyper_parameter_combinations(self):\n",
    "        \"\"\"\n",
    "        Calcule les différentes combinaisons de la grille des hyper-paramètres\n",
    "        \n",
    "        Par exemple {'P': [0, 1, 2]} devient [{'P': 0}, {'P': 1}, {'P': 2}]\n",
    "        \"\"\"\n",
    "        names = sorted(self.param_grid)\n",
    "        return [dict(zip(names, prod)) for prod in it.product(*(self.param_grid[name] for name in names))]\n",
    "    \n",
    "    def eval_performance_for_params(self, X, y, hyper_parameters):\n",
    "        \"\"\"\n",
    "        Estime la performance du modèle suivant les hyperparamètres fournis,\n",
    "        à l'aide d'une validation croisée, et stocke les résultats\n",
    "        \n",
    "        Args:\n",
    "            X (array-like, sparse matrix): variables features \n",
    "            y (array-like, sparse matrix): variables cible (target)\n",
    "            hyper_parameters (dict): hyperparamètres utilisés pour le modèle à évaluer\n",
    "        \"\"\"\n",
    "        self.estimator.set_params(**hyper_parameters)\n",
    "        accuracy_scores = list(self.eval_performance_for_each_fold(X, y))\n",
    "        self.store_results(hyper_parameters, accuracy_scores)\n",
    "        \n",
    "    def eval_performance_for_each_fold(self, X, y):\n",
    "        \"\"\"\n",
    "        Estime la performance du modèle à l'aide d'une validation croisée,\n",
    "        pour chaque fold défini par self.cv\n",
    "        \n",
    "        Args:\n",
    "            X (array-like, sparse matrix): variables features \n",
    "            y (array-like, sparse matrix): variables cible (target)\n",
    "            \n",
    "        Yields:\n",
    "            float: pourcentages de fiabilité du modèle (accuracy) pour chaque fold\n",
    "        \"\"\"\n",
    "        # pour chaque fold\n",
    "        fold_indices = self.cv.split(X, y)\n",
    "        for train_index, validation_index in fold_indices:\n",
    "            # recuperation des sets pour le fold en cours\n",
    "            X_train = X[train_index]\n",
    "            X_validation = X[validation_index]\n",
    "            y_train = y[train_index]\n",
    "            y_validation = y[validation_index]\n",
    "            \n",
    "            # entrainement de l'estimateur\n",
    "            self.estimator.fit(X_train, y_train)\n",
    "            \n",
    "            # évaluation de l'accuracy pour ce fold\n",
    "            y_pred = self.estimator.predict(X_validation)\n",
    "            yield metrics.accuracy_score(y_validation, y_pred)\n",
    "    \n",
    "    def store_results(self, hyper_parameters, accuracy_scores):\n",
    "        self.results.append({\n",
    "            'params': hyper_parameters,\n",
    "            'mean_test_score': np.mean(accuracy_scores),\n",
    "            'std_test_score': np.std(accuracy_scores),\n",
    "            'accuracy': accuracy_scores\n",
    "        })\n",
    "    \n",
    "    @property\n",
    "    def best_params_(self):\n",
    "        \"\"\"Recupère les meilleurs hyperparamètres\"\"\"\n",
    "        idx_max = self.cv_results_['mean_test_score'].idxmax()\n",
    "        return self.cv_results_['params'][idx_max]\n",
    "    \n",
    "    def best_estimator(self, X, y):\n",
    "        \"\"\"Fournit un estimateur avec les meilleurs hyperparamètres,\n",
    "        qui est ensuite entraîné avec les données fournies\n",
    "        \n",
    "        Args:\n",
    "            X (array-like, sparse matrix): variables features \n",
    "            y (array-like, sparse matrix): variables cible (target)\n",
    "            \n",
    "        Returns:\n",
    "            array: un estimateur avec les paramètres optimaux\n",
    "        \"\"\"\n",
    "        hyper_parameters = self.best_params_\n",
    "        self.estimator.set_params(**hyper_parameters)\n",
    "        self.estimator.fit(X, y)\n",
    "        return self.estimator\n",
    "        "
   ]
  },
  {
   "cell_type": "markdown",
   "metadata": {},
   "source": [
    "### Lancement de l'estimation"
   ]
  },
  {
   "cell_type": "code",
   "execution_count": 12,
   "metadata": {},
   "outputs": [
    {
     "name": "stdout",
     "output_type": "stream",
     "text": [
      "Meilleur(s) hyperparamètre(s) sur le jeu d'entraînement:\n",
      "{'n_neighbors': 5}\n"
     ]
    }
   ],
   "source": [
    "mcv = MyCrossValidation(neighbors.KNeighborsClassifier(),\n",
    "    param_grid, # hyperparamètres à tester\n",
    "    cv=cross_validation_folds, # validation croisée\n",
    "    scoring=score # score à optimiser\n",
    "    )\n",
    "\n",
    "# Optimiser ce classifieur sur le jeu d'entraînement\n",
    "mcv.fit(X_train_std, y_train)\n",
    "\n",
    "# Afficher le(s) hyperparamètre(s) optimaux\n",
    "print (\"Meilleur(s) hyperparamètre(s) sur le jeu d'entraînement:\")\n",
    "print (mcv.best_params_)"
   ]
  },
  {
   "cell_type": "markdown",
   "metadata": {},
   "source": [
    "### Résultats de la validation croisée"
   ]
  },
  {
   "cell_type": "code",
   "execution_count": 13,
   "metadata": {
    "scrolled": true
   },
   "outputs": [
    {
     "data": {
      "text/html": [
       "<div>\n",
       "<style scoped>\n",
       "    .dataframe tbody tr th:only-of-type {\n",
       "        vertical-align: middle;\n",
       "    }\n",
       "\n",
       "    .dataframe tbody tr th {\n",
       "        vertical-align: top;\n",
       "    }\n",
       "\n",
       "    .dataframe thead th {\n",
       "        text-align: right;\n",
       "    }\n",
       "</style>\n",
       "<table border=\"1\" class=\"dataframe\">\n",
       "  <thead>\n",
       "    <tr style=\"text-align: right;\">\n",
       "      <th></th>\n",
       "      <th>hyperparamètres</th>\n",
       "      <th>score moyen</th>\n",
       "      <th>écart-type du score</th>\n",
       "    </tr>\n",
       "  </thead>\n",
       "  <tbody>\n",
       "    <tr>\n",
       "      <th>0</th>\n",
       "      <td>{'n_neighbors': 3}</td>\n",
       "      <td>0.756699</td>\n",
       "      <td>0.032245</td>\n",
       "    </tr>\n",
       "    <tr>\n",
       "      <th>1</th>\n",
       "      <td>{'n_neighbors': 5}</td>\n",
       "      <td>0.764879</td>\n",
       "      <td>0.018848</td>\n",
       "    </tr>\n",
       "    <tr>\n",
       "      <th>2</th>\n",
       "      <td>{'n_neighbors': 7}</td>\n",
       "      <td>0.755538</td>\n",
       "      <td>0.030602</td>\n",
       "    </tr>\n",
       "    <tr>\n",
       "      <th>3</th>\n",
       "      <td>{'n_neighbors': 9}</td>\n",
       "      <td>0.764290</td>\n",
       "      <td>0.022939</td>\n",
       "    </tr>\n",
       "    <tr>\n",
       "      <th>4</th>\n",
       "      <td>{'n_neighbors': 11}</td>\n",
       "      <td>0.761083</td>\n",
       "      <td>0.017948</td>\n",
       "    </tr>\n",
       "    <tr>\n",
       "      <th>5</th>\n",
       "      <td>{'n_neighbors': 13}</td>\n",
       "      <td>0.760496</td>\n",
       "      <td>0.022018</td>\n",
       "    </tr>\n",
       "    <tr>\n",
       "      <th>6</th>\n",
       "      <td>{'n_neighbors': 15}</td>\n",
       "      <td>0.757579</td>\n",
       "      <td>0.015713</td>\n",
       "    </tr>\n",
       "  </tbody>\n",
       "</table>\n",
       "</div>"
      ],
      "text/plain": [
       "       hyperparamètres  score moyen  écart-type du score\n",
       "0   {'n_neighbors': 3}     0.756699             0.032245\n",
       "1   {'n_neighbors': 5}     0.764879             0.018848\n",
       "2   {'n_neighbors': 7}     0.755538             0.030602\n",
       "3   {'n_neighbors': 9}     0.764290             0.022939\n",
       "4  {'n_neighbors': 11}     0.761083             0.017948\n",
       "5  {'n_neighbors': 13}     0.760496             0.022018\n",
       "6  {'n_neighbors': 15}     0.757579             0.015713"
      ]
     },
     "execution_count": 13,
     "metadata": {},
     "output_type": "execute_result"
    }
   ],
   "source": [
    "cv_results_ = mcv.cv_results_\n",
    "\n",
    "my_cross_validation_results = pd.DataFrame.from_dict(\n",
    "    {\n",
    "        'score moyen' : cv_results_['mean_test_score'],\n",
    "        'écart-type du score': cv_results_['std_test_score'] * 2,\n",
    "        'hyperparamètres': cv_results_['params']\n",
    "    })\n",
    "\n",
    "my_cross_validation_results"
   ]
  },
  {
   "cell_type": "code",
   "execution_count": 14,
   "metadata": {},
   "outputs": [
    {
     "name": "stdout",
     "output_type": "stream",
     "text": [
      "\n",
      "Sur le jeu de test : 0.750\n"
     ]
    }
   ],
   "source": [
    "y_pred = mcv.best_estimator(X_train_std, y_train).predict(X_test_std)\n",
    "print (\"\\nSur le jeu de test : %0.3f\" % metrics.accuracy_score(y_test, y_pred))"
   ]
  },
  {
   "cell_type": "markdown",
   "metadata": {},
   "source": [
    "## Conclusion\n",
    "\n",
    "Voici les résultats obtenus avec scikit-learn:"
   ]
  },
  {
   "cell_type": "code",
   "execution_count": 15,
   "metadata": {},
   "outputs": [
    {
     "data": {
      "text/html": [
       "<div>\n",
       "<style scoped>\n",
       "    .dataframe tbody tr th:only-of-type {\n",
       "        vertical-align: middle;\n",
       "    }\n",
       "\n",
       "    .dataframe tbody tr th {\n",
       "        vertical-align: top;\n",
       "    }\n",
       "\n",
       "    .dataframe thead th {\n",
       "        text-align: right;\n",
       "    }\n",
       "</style>\n",
       "<table border=\"1\" class=\"dataframe\">\n",
       "  <thead>\n",
       "    <tr style=\"text-align: right;\">\n",
       "      <th></th>\n",
       "      <th>hyperparamètres</th>\n",
       "      <th>score moyen</th>\n",
       "      <th>écart-type du score</th>\n",
       "    </tr>\n",
       "  </thead>\n",
       "  <tbody>\n",
       "    <tr>\n",
       "      <th>0</th>\n",
       "      <td>{'n_neighbors': 3}</td>\n",
       "      <td>0.756709</td>\n",
       "      <td>0.032243</td>\n",
       "    </tr>\n",
       "    <tr>\n",
       "      <th>1</th>\n",
       "      <td>{'n_neighbors': 5}</td>\n",
       "      <td>0.764877</td>\n",
       "      <td>0.018849</td>\n",
       "    </tr>\n",
       "    <tr>\n",
       "      <th>2</th>\n",
       "      <td>{'n_neighbors': 7}</td>\n",
       "      <td>0.755543</td>\n",
       "      <td>0.030606</td>\n",
       "    </tr>\n",
       "    <tr>\n",
       "      <th>3</th>\n",
       "      <td>{'n_neighbors': 9}</td>\n",
       "      <td>0.764294</td>\n",
       "      <td>0.022944</td>\n",
       "    </tr>\n",
       "    <tr>\n",
       "      <th>4</th>\n",
       "      <td>{'n_neighbors': 11}</td>\n",
       "      <td>0.761085</td>\n",
       "      <td>0.017952</td>\n",
       "    </tr>\n",
       "    <tr>\n",
       "      <th>5</th>\n",
       "      <td>{'n_neighbors': 13}</td>\n",
       "      <td>0.760502</td>\n",
       "      <td>0.022019</td>\n",
       "    </tr>\n",
       "    <tr>\n",
       "      <th>6</th>\n",
       "      <td>{'n_neighbors': 15}</td>\n",
       "      <td>0.757585</td>\n",
       "      <td>0.015711</td>\n",
       "    </tr>\n",
       "  </tbody>\n",
       "</table>\n",
       "</div>"
      ],
      "text/plain": [
       "       hyperparamètres  score moyen  écart-type du score\n",
       "0   {'n_neighbors': 3}     0.756709             0.032243\n",
       "1   {'n_neighbors': 5}     0.764877             0.018849\n",
       "2   {'n_neighbors': 7}     0.755543             0.030606\n",
       "3   {'n_neighbors': 9}     0.764294             0.022944\n",
       "4  {'n_neighbors': 11}     0.761085             0.017952\n",
       "5  {'n_neighbors': 13}     0.760502             0.022019\n",
       "6  {'n_neighbors': 15}     0.757585             0.015711"
      ]
     },
     "execution_count": 15,
     "metadata": {},
     "output_type": "execute_result"
    }
   ],
   "source": [
    "sklearn_results"
   ]
  },
  {
   "cell_type": "markdown",
   "metadata": {},
   "source": [
    "et voici les résultats obtenus avec la validation croisée personnalisée:"
   ]
  },
  {
   "cell_type": "code",
   "execution_count": 16,
   "metadata": {},
   "outputs": [
    {
     "data": {
      "text/html": [
       "<div>\n",
       "<style scoped>\n",
       "    .dataframe tbody tr th:only-of-type {\n",
       "        vertical-align: middle;\n",
       "    }\n",
       "\n",
       "    .dataframe tbody tr th {\n",
       "        vertical-align: top;\n",
       "    }\n",
       "\n",
       "    .dataframe thead th {\n",
       "        text-align: right;\n",
       "    }\n",
       "</style>\n",
       "<table border=\"1\" class=\"dataframe\">\n",
       "  <thead>\n",
       "    <tr style=\"text-align: right;\">\n",
       "      <th></th>\n",
       "      <th>hyperparamètres</th>\n",
       "      <th>score moyen</th>\n",
       "      <th>écart-type du score</th>\n",
       "    </tr>\n",
       "  </thead>\n",
       "  <tbody>\n",
       "    <tr>\n",
       "      <th>0</th>\n",
       "      <td>{'n_neighbors': 3}</td>\n",
       "      <td>0.756699</td>\n",
       "      <td>0.032245</td>\n",
       "    </tr>\n",
       "    <tr>\n",
       "      <th>1</th>\n",
       "      <td>{'n_neighbors': 5}</td>\n",
       "      <td>0.764879</td>\n",
       "      <td>0.018848</td>\n",
       "    </tr>\n",
       "    <tr>\n",
       "      <th>2</th>\n",
       "      <td>{'n_neighbors': 7}</td>\n",
       "      <td>0.755538</td>\n",
       "      <td>0.030602</td>\n",
       "    </tr>\n",
       "    <tr>\n",
       "      <th>3</th>\n",
       "      <td>{'n_neighbors': 9}</td>\n",
       "      <td>0.764290</td>\n",
       "      <td>0.022939</td>\n",
       "    </tr>\n",
       "    <tr>\n",
       "      <th>4</th>\n",
       "      <td>{'n_neighbors': 11}</td>\n",
       "      <td>0.761083</td>\n",
       "      <td>0.017948</td>\n",
       "    </tr>\n",
       "    <tr>\n",
       "      <th>5</th>\n",
       "      <td>{'n_neighbors': 13}</td>\n",
       "      <td>0.760496</td>\n",
       "      <td>0.022018</td>\n",
       "    </tr>\n",
       "    <tr>\n",
       "      <th>6</th>\n",
       "      <td>{'n_neighbors': 15}</td>\n",
       "      <td>0.757579</td>\n",
       "      <td>0.015713</td>\n",
       "    </tr>\n",
       "  </tbody>\n",
       "</table>\n",
       "</div>"
      ],
      "text/plain": [
       "       hyperparamètres  score moyen  écart-type du score\n",
       "0   {'n_neighbors': 3}     0.756699             0.032245\n",
       "1   {'n_neighbors': 5}     0.764879             0.018848\n",
       "2   {'n_neighbors': 7}     0.755538             0.030602\n",
       "3   {'n_neighbors': 9}     0.764290             0.022939\n",
       "4  {'n_neighbors': 11}     0.761083             0.017948\n",
       "5  {'n_neighbors': 13}     0.760496             0.022018\n",
       "6  {'n_neighbors': 15}     0.757579             0.015713"
      ]
     },
     "execution_count": 16,
     "metadata": {},
     "output_type": "execute_result"
    }
   ],
   "source": [
    "my_cross_validation_results"
   ]
  },
  {
   "cell_type": "markdown",
   "metadata": {},
   "source": [
    "On remarque que les résultats obtenus sont très prochèes, ce qui permet de valider que l'implémentation personnalisée fonctionne bien."
   ]
  },
  {
   "cell_type": "code",
   "execution_count": 17,
   "metadata": {},
   "outputs": [
    {
     "data": {
      "text/html": [
       "<div>\n",
       "<style scoped>\n",
       "    .dataframe tbody tr th:only-of-type {\n",
       "        vertical-align: middle;\n",
       "    }\n",
       "\n",
       "    .dataframe tbody tr th {\n",
       "        vertical-align: top;\n",
       "    }\n",
       "\n",
       "    .dataframe thead th {\n",
       "        text-align: right;\n",
       "    }\n",
       "</style>\n",
       "<table border=\"1\" class=\"dataframe\">\n",
       "  <thead>\n",
       "    <tr style=\"text-align: right;\">\n",
       "      <th></th>\n",
       "      <th>hyperparamètres (perso)</th>\n",
       "      <th>score moyen (perso)</th>\n",
       "      <th>score moyen (sklearn)</th>\n",
       "      <th>difference</th>\n",
       "    </tr>\n",
       "  </thead>\n",
       "  <tbody>\n",
       "    <tr>\n",
       "      <th>0</th>\n",
       "      <td>{'n_neighbors': 3}</td>\n",
       "      <td>0.756699</td>\n",
       "      <td>0.756709</td>\n",
       "      <td>0.000011</td>\n",
       "    </tr>\n",
       "    <tr>\n",
       "      <th>1</th>\n",
       "      <td>{'n_neighbors': 5}</td>\n",
       "      <td>0.764879</td>\n",
       "      <td>0.764877</td>\n",
       "      <td>-0.000002</td>\n",
       "    </tr>\n",
       "    <tr>\n",
       "      <th>2</th>\n",
       "      <td>{'n_neighbors': 7}</td>\n",
       "      <td>0.755538</td>\n",
       "      <td>0.755543</td>\n",
       "      <td>0.000005</td>\n",
       "    </tr>\n",
       "    <tr>\n",
       "      <th>3</th>\n",
       "      <td>{'n_neighbors': 9}</td>\n",
       "      <td>0.764290</td>\n",
       "      <td>0.764294</td>\n",
       "      <td>0.000004</td>\n",
       "    </tr>\n",
       "    <tr>\n",
       "      <th>4</th>\n",
       "      <td>{'n_neighbors': 11}</td>\n",
       "      <td>0.761083</td>\n",
       "      <td>0.761085</td>\n",
       "      <td>0.000002</td>\n",
       "    </tr>\n",
       "    <tr>\n",
       "      <th>5</th>\n",
       "      <td>{'n_neighbors': 13}</td>\n",
       "      <td>0.760496</td>\n",
       "      <td>0.760502</td>\n",
       "      <td>0.000005</td>\n",
       "    </tr>\n",
       "    <tr>\n",
       "      <th>6</th>\n",
       "      <td>{'n_neighbors': 15}</td>\n",
       "      <td>0.757579</td>\n",
       "      <td>0.757585</td>\n",
       "      <td>0.000005</td>\n",
       "    </tr>\n",
       "  </tbody>\n",
       "</table>\n",
       "</div>"
      ],
      "text/plain": [
       "  hyperparamètres (perso)  score moyen (perso)  score moyen (sklearn)  \\\n",
       "0      {'n_neighbors': 3}             0.756699               0.756709   \n",
       "1      {'n_neighbors': 5}             0.764879               0.764877   \n",
       "2      {'n_neighbors': 7}             0.755538               0.755543   \n",
       "3      {'n_neighbors': 9}             0.764290               0.764294   \n",
       "4     {'n_neighbors': 11}             0.761083               0.761085   \n",
       "5     {'n_neighbors': 13}             0.760496               0.760502   \n",
       "6     {'n_neighbors': 15}             0.757579               0.757585   \n",
       "\n",
       "   difference  \n",
       "0    0.000011  \n",
       "1   -0.000002  \n",
       "2    0.000005  \n",
       "3    0.000004  \n",
       "4    0.000002  \n",
       "5    0.000005  \n",
       "6    0.000005  "
      ]
     },
     "execution_count": 17,
     "metadata": {},
     "output_type": "execute_result"
    }
   ],
   "source": [
    "join = my_cross_validation_results.join(sklearn_results, lsuffix=' (perso)', rsuffix=' (sklearn)')\n",
    "join = join[['hyperparamètres (perso)', 'score moyen (perso)', 'score moyen (sklearn)']]\n",
    "join = join.assign(difference = join['score moyen (sklearn)'] - join['score moyen (perso)'])\n",
    "join"
   ]
  },
  {
   "cell_type": "markdown",
   "metadata": {},
   "source": [
    "Quelques améliorations possibles:\n",
    "\n",
    "* Implémenter l'algorithme <code>StratifiedKFold</code> (je ne pense pas que c'était demandé dans l'exercice)\n",
    "* Simplifier la méthode best_estimator"
   ]
  },
  {
   "cell_type": "code",
   "execution_count": null,
   "metadata": {},
   "outputs": [],
   "source": []
  }
 ],
 "metadata": {
  "kernelspec": {
   "display_name": "Python 3",
   "language": "python",
   "name": "python3"
  },
  "language_info": {
   "codemirror_mode": {
    "name": "ipython",
    "version": 3
   },
   "file_extension": ".py",
   "mimetype": "text/x-python",
   "name": "python",
   "nbconvert_exporter": "python",
   "pygments_lexer": "ipython3",
   "version": "3.6.4"
  }
 },
 "nbformat": 4,
 "nbformat_minor": 2
}
